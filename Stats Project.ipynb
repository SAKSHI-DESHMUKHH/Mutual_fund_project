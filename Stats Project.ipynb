{
 "cells": [
  {
   "cell_type": "markdown",
   "metadata": {},
   "source": [
    "# Statistically Backed Investment Fund Evaluation (SBIFE)\t\n"
   ]
  },
  {
   "cell_type": "markdown",
   "metadata": {},
   "source": [
    "# Project Description\n",
    "The purpose of this project is to compare and contrast two mutual funds based on their monthly returns using various statistical methods.  The two funds randomly selected for this project for Group 1 are HFSAX and KMKCX mutual funds.  Through Statistical methods we aim to find if there is a statistically significant difference between the returns and also correlation between the returns of the two funds."
   ]
  },
  {
   "cell_type": "markdown",
   "metadata": {},
   "source": [
    "# Steps Performed:\n",
    "As the first step, we randomly selected two mutual funds for our project by getting a list of all of the mutual funds on Yahoo with a star rating of 5. Once we identified our two mutual funds, the raw data from Yahoo Finance was gathered for date range of 1/1/2020 to 12/31/2022.  This data was then parsed and cleaned so that only the last day of each month remains.  Using the clean data, the monthly return was calculated using current month and previous months return.  \n",
    "\n",
    "Using Microsoft Excel’s descriptive statistics, mean was calculated for each fund and the coefficient of variation was calculated to measure risk of each fund.  Additionally, null and alternative hypothesis was setup in order to test whether the difference in the mean monthly return of the two funds is zero or not.  Using Excel’s t-Test: Paired Two Sample for Means statistical package, testing was performed to test the hypothesis.  Once all tests were performed, the results were analyzed and conclusions drawn."
   ]
  },
  {
   "cell_type": "markdown",
   "metadata": {},
   "source": [
    "# Result Description\n",
    "'- Using description statistics, Excel provided mean based on calculated monthly return for each mutual fund as well as various other metrics.  \n",
    "- The mean for HFSAX fund was 0.86 and the mean for KMKCX fund was 1.92.  The mean values indicate KMKCX fund is a much better investment.  \n",
    "- However, a single statistic does not tell the whole story.  \n",
    "- The coefficient of variation was then calculate to analyze risk of each fund.  \n",
    "- This value was 274.93 for HFSAX fund and 475.91 for KMKCX fund.  Using the risk metric, it can be determined that the KMKCX fund is more risky.  \n",
    "- Line and box plot charts were used to show the volatility of each fund.\n",
    "\n",
    "- For hypothesis testing, the null hypothesis was                                                    and alternative hypothesis was                                                        .  \n",
    "- The test used a significance level of 0.05 and t-test statistic.  \n",
    "- The decision rule would be to reject null hypothesis if |t| > 2.032 or when p < 0.05 or if mean is not within confidence interval.   \n",
    "- The calculated t value was -0.737, p value was 0.4664 and confidence interval was [-3.9885, 1.8664].  \n",
    "- Using the decision rules above, it was determined that the null hypothesis should not be rejected.  "
   ]
  },
  {
   "attachments": {},
   "cell_type": "markdown",
   "metadata": {},
   "source": [
    "# Recommendations:\n",
    "My recommendation on the two mutual funds for investors:\n",
    "For risk averse investors, we recommend HFSAX fund\n",
    "For investors with healthy risk appetite, we recommend KMKCX fund\n",
    "For risk embracing Investors, we recommend a mix of HFSAX and KMKCX funds\n"
   ]
  },
  {
   "cell_type": "markdown",
   "metadata": {},
   "source": [
    "# Import Libraries"
   ]
  },
  {
   "cell_type": "code",
   "execution_count": 1,
   "metadata": {},
   "outputs": [],
   "source": [
    "import pandas as pd\n",
    "import numpy as np\n",
    "import calendar\n",
    "import datetime\n",
    "import matplotlib.pyplot as plt\n",
    "import seaborn as sns"
   ]
  },
  {
   "cell_type": "markdown",
   "metadata": {},
   "source": [
    "# Reading CSV files for both the funds"
   ]
  },
  {
   "cell_type": "code",
   "execution_count": 2,
   "metadata": {},
   "outputs": [],
   "source": [
    "KMKCX=pd.read_csv(\"KMKCX.CSV\")\n",
    "HFSAX=pd.read_csv(\"HFSAX.CSV\")"
   ]
  },
  {
   "cell_type": "code",
   "execution_count": 3,
   "metadata": {
    "scrolled": true
   },
   "outputs": [
    {
     "data": {
      "text/html": [
       "<div>\n",
       "<style scoped>\n",
       "    .dataframe tbody tr th:only-of-type {\n",
       "        vertical-align: middle;\n",
       "    }\n",
       "\n",
       "    .dataframe tbody tr th {\n",
       "        vertical-align: top;\n",
       "    }\n",
       "\n",
       "    .dataframe thead th {\n",
       "        text-align: right;\n",
       "    }\n",
       "</style>\n",
       "<table border=\"1\" class=\"dataframe\">\n",
       "  <thead>\n",
       "    <tr style=\"text-align: right;\">\n",
       "      <th></th>\n",
       "      <th>Date</th>\n",
       "    </tr>\n",
       "  </thead>\n",
       "  <tbody>\n",
       "    <tr>\n",
       "      <th>0</th>\n",
       "      <td>2020-01-31</td>\n",
       "    </tr>\n",
       "    <tr>\n",
       "      <th>1</th>\n",
       "      <td>2020-02-28</td>\n",
       "    </tr>\n",
       "    <tr>\n",
       "      <th>2</th>\n",
       "      <td>2020-03-31</td>\n",
       "    </tr>\n",
       "    <tr>\n",
       "      <th>3</th>\n",
       "      <td>2020-04-30</td>\n",
       "    </tr>\n",
       "    <tr>\n",
       "      <th>4</th>\n",
       "      <td>2020-05-29</td>\n",
       "    </tr>\n",
       "    <tr>\n",
       "      <th>5</th>\n",
       "      <td>2020-06-30</td>\n",
       "    </tr>\n",
       "    <tr>\n",
       "      <th>6</th>\n",
       "      <td>2020-07-31</td>\n",
       "    </tr>\n",
       "    <tr>\n",
       "      <th>7</th>\n",
       "      <td>2020-08-31</td>\n",
       "    </tr>\n",
       "    <tr>\n",
       "      <th>8</th>\n",
       "      <td>2020-09-30</td>\n",
       "    </tr>\n",
       "    <tr>\n",
       "      <th>9</th>\n",
       "      <td>2020-10-30</td>\n",
       "    </tr>\n",
       "    <tr>\n",
       "      <th>10</th>\n",
       "      <td>2020-11-30</td>\n",
       "    </tr>\n",
       "    <tr>\n",
       "      <th>11</th>\n",
       "      <td>2020-12-31</td>\n",
       "    </tr>\n",
       "    <tr>\n",
       "      <th>12</th>\n",
       "      <td>2021-01-29</td>\n",
       "    </tr>\n",
       "    <tr>\n",
       "      <th>13</th>\n",
       "      <td>2021-02-26</td>\n",
       "    </tr>\n",
       "    <tr>\n",
       "      <th>14</th>\n",
       "      <td>2021-03-31</td>\n",
       "    </tr>\n",
       "    <tr>\n",
       "      <th>15</th>\n",
       "      <td>2021-04-30</td>\n",
       "    </tr>\n",
       "    <tr>\n",
       "      <th>16</th>\n",
       "      <td>2021-05-28</td>\n",
       "    </tr>\n",
       "    <tr>\n",
       "      <th>17</th>\n",
       "      <td>2021-06-30</td>\n",
       "    </tr>\n",
       "    <tr>\n",
       "      <th>18</th>\n",
       "      <td>2021-07-30</td>\n",
       "    </tr>\n",
       "    <tr>\n",
       "      <th>19</th>\n",
       "      <td>2021-08-31</td>\n",
       "    </tr>\n",
       "    <tr>\n",
       "      <th>20</th>\n",
       "      <td>2021-09-30</td>\n",
       "    </tr>\n",
       "    <tr>\n",
       "      <th>21</th>\n",
       "      <td>2021-10-29</td>\n",
       "    </tr>\n",
       "    <tr>\n",
       "      <th>22</th>\n",
       "      <td>2021-11-30</td>\n",
       "    </tr>\n",
       "    <tr>\n",
       "      <th>23</th>\n",
       "      <td>2021-12-31</td>\n",
       "    </tr>\n",
       "    <tr>\n",
       "      <th>24</th>\n",
       "      <td>2022-01-31</td>\n",
       "    </tr>\n",
       "    <tr>\n",
       "      <th>25</th>\n",
       "      <td>2022-02-28</td>\n",
       "    </tr>\n",
       "    <tr>\n",
       "      <th>26</th>\n",
       "      <td>2022-03-31</td>\n",
       "    </tr>\n",
       "    <tr>\n",
       "      <th>27</th>\n",
       "      <td>2022-04-29</td>\n",
       "    </tr>\n",
       "    <tr>\n",
       "      <th>28</th>\n",
       "      <td>2022-05-31</td>\n",
       "    </tr>\n",
       "    <tr>\n",
       "      <th>29</th>\n",
       "      <td>2022-06-30</td>\n",
       "    </tr>\n",
       "    <tr>\n",
       "      <th>30</th>\n",
       "      <td>2022-07-29</td>\n",
       "    </tr>\n",
       "    <tr>\n",
       "      <th>31</th>\n",
       "      <td>2022-08-31</td>\n",
       "    </tr>\n",
       "    <tr>\n",
       "      <th>32</th>\n",
       "      <td>2022-09-30</td>\n",
       "    </tr>\n",
       "    <tr>\n",
       "      <th>33</th>\n",
       "      <td>2022-10-31</td>\n",
       "    </tr>\n",
       "    <tr>\n",
       "      <th>34</th>\n",
       "      <td>2022-11-30</td>\n",
       "    </tr>\n",
       "    <tr>\n",
       "      <th>35</th>\n",
       "      <td>2022-12-30</td>\n",
       "    </tr>\n",
       "  </tbody>\n",
       "</table>\n",
       "</div>"
      ],
      "text/plain": [
       "          Date\n",
       "0   2020-01-31\n",
       "1   2020-02-28\n",
       "2   2020-03-31\n",
       "3   2020-04-30\n",
       "4   2020-05-29\n",
       "5   2020-06-30\n",
       "6   2020-07-31\n",
       "7   2020-08-31\n",
       "8   2020-09-30\n",
       "9   2020-10-30\n",
       "10  2020-11-30\n",
       "11  2020-12-31\n",
       "12  2021-01-29\n",
       "13  2021-02-26\n",
       "14  2021-03-31\n",
       "15  2021-04-30\n",
       "16  2021-05-28\n",
       "17  2021-06-30\n",
       "18  2021-07-30\n",
       "19  2021-08-31\n",
       "20  2021-09-30\n",
       "21  2021-10-29\n",
       "22  2021-11-30\n",
       "23  2021-12-31\n",
       "24  2022-01-31\n",
       "25  2022-02-28\n",
       "26  2022-03-31\n",
       "27  2022-04-29\n",
       "28  2022-05-31\n",
       "29  2022-06-30\n",
       "30  2022-07-29\n",
       "31  2022-08-31\n",
       "32  2022-09-30\n",
       "33  2022-10-31\n",
       "34  2022-11-30\n",
       "35  2022-12-30"
      ]
     },
     "execution_count": 3,
     "metadata": {},
     "output_type": "execute_result"
    }
   ],
   "source": [
    "KMKCX[[\"year\", \"month\", \"day\"]] = KMKCX[\"Date\"].str.split(\"-\", expand = True)\n",
    "\n",
    "KMKCX[\"month_year\"]=KMKCX[\"year\"]+\"-\"+KMKCX[\"month\"]\n",
    "KMKCX\n",
    "a=KMKCX.groupby(KMKCX[\"month_year\"])[\"day\"].max()\n",
    "a=a.add_suffix('-').reset_index()\n",
    "a[\"Date\"]=a[\"month_year\"]+a[\"day\"]\n",
    "a=a.drop([\"month_year\",\"day\"],axis=1)\n",
    "a"
   ]
  },
  {
   "cell_type": "code",
   "execution_count": 4,
   "metadata": {},
   "outputs": [
    {
     "data": {
      "text/plain": [
       "Date          object\n",
       "Open         float64\n",
       "High         float64\n",
       "Low          float64\n",
       "Close        float64\n",
       "Adj Close    float64\n",
       "Volume         int64\n",
       "dtype: object"
      ]
     },
     "execution_count": 4,
     "metadata": {},
     "output_type": "execute_result"
    }
   ],
   "source": [
    "HFSAX.dtypes"
   ]
  },
  {
   "cell_type": "markdown",
   "metadata": {},
   "source": [
    "# Cleaning Data and Adding Monthly Return Column"
   ]
  },
  {
   "cell_type": "markdown",
   "metadata": {},
   "source": [
    "# Finding Last Working Day For Each Month"
   ]
  },
  {
   "cell_type": "code",
   "execution_count": 5,
   "metadata": {},
   "outputs": [
    {
     "name": "stdout",
     "output_type": "stream",
     "text": [
      "          Date  Adj Close  Monthly_return\n",
      "1   2020-02-28  17.257030        1.095541\n",
      "2   2020-03-31  17.444038        1.083663\n",
      "3   2020-04-30  17.877893        2.487125\n",
      "4   2020-05-29  18.394033        2.887029\n",
      "5   2020-06-30  18.962536        3.090693\n",
      "6   2020-07-31  19.927494        5.088760\n",
      "7   2020-08-31  20.840088        4.579572\n",
      "8   2020-09-30  20.383791       -2.189516\n",
      "9   2020-10-30  20.850992        2.292022\n",
      "10  2020-11-30  22.148272        6.221670\n",
      "11  2020-12-31  23.127676        4.422033\n",
      "12  2021-01-29  23.299500        0.742937\n",
      "13  2021-02-26  24.029757        3.134217\n",
      "14  2021-03-31  24.029757        0.000000\n",
      "15  2021-04-30  24.974794        3.932778\n",
      "16  2021-05-28  25.369995        1.582399\n",
      "17  2021-06-30  25.533226        0.643402\n",
      "18  2021-07-30  24.908539       -2.446565\n",
      "19  2021-08-31  25.054655        0.586610\n",
      "20  2021-09-30  24.822592       -0.926227\n",
      "21  2021-10-29  25.159285        1.356397\n",
      "22  2021-11-30  25.125383       -0.134749\n",
      "23  2021-12-31  25.220230        0.377495\n",
      "24  2022-01-31  25.258358        0.151180\n",
      "25  2022-02-28  25.201170       -0.226412\n",
      "26  2022-03-31  25.210703        0.037828\n",
      "27  2022-04-29  24.390997       -3.251421\n",
      "28  2022-05-31  23.952547       -1.797589\n",
      "29  2022-06-30  23.580820       -1.551931\n",
      "30  2022-07-29  24.076458        2.101869\n",
      "31  2022-08-31  23.390194       -2.850353\n",
      "32  2022-09-30  23.113781       -1.181747\n",
      "33  2022-10-31  22.912502       -0.870818\n",
      "34  2022-11-30  23.295195        1.670237\n",
      "35  2022-12-30  22.840000       -1.954030\n"
     ]
    }
   ],
   "source": [
    "HFSAX_cleaned = pd.merge(HFSAX, a, on='Date', how='right')\n",
    "HFSAX_cleaned=HFSAX_cleaned.drop(['Open', 'High', 'Low','Close','Volume'], axis=1)\n",
    "HFSAX_cleaned[\"Adj Close\"].dtypes\n",
    "HFSAX_cleaned[\"Monthly_return\"]=HFSAX_cleaned[\"Adj Close\"].pct_change()*100\n",
    "HFSAX_cleaned=HFSAX_cleaned.drop(index=0)\n",
    "print(HFSAX_cleaned)\n"
   ]
  },
  {
   "cell_type": "code",
   "execution_count": 6,
   "metadata": {},
   "outputs": [
    {
     "name": "stdout",
     "output_type": "stream",
     "text": [
      "          Date  Adj Close  year month day month_year  Monthly_return\n",
      "1   2020-02-28  23.913269  2020    02  28    2020-02       -4.405978\n",
      "2   2020-03-31  19.327433  2020    03  31    2020-03      -19.176952\n",
      "3   2020-04-30  22.368256  2020    04  30    2020-04       15.733196\n",
      "4   2020-05-29  22.860296  2020    05  29    2020-05        2.199724\n",
      "5   2020-06-30  22.624117  2020    06  30    2020-06       -1.033141\n",
      "6   2020-07-31  22.781570  2020    07  31    2020-07        0.695952\n",
      "7   2020-08-31  23.204729  2020    08  31    2020-08        1.857462\n",
      "8   2020-09-30  21.521944  2020    09  30    2020-09       -7.251905\n",
      "9   2020-10-30  21.964779  2020    10  30    2020-10        2.057598\n",
      "10  2020-11-30  25.891279  2020    11  30    2020-11       17.876346\n",
      "11  2020-12-31  29.315897  2020    12  31    2020-12       13.226917\n",
      "12  2021-01-29  30.644411  2021    01  29    2021-01        4.531719\n",
      "13  2021-02-26  35.663246  2021    02  26    2021-02       16.377652\n",
      "14  2021-03-31  42.689613  2021    03  31    2021-03       19.701984\n",
      "15  2021-04-30  42.177891  2021    04  30    2021-04       -1.198704\n",
      "16  2021-05-28  38.359638  2021    05  28    2021-05       -9.052736\n",
      "17  2021-06-30  39.884972  2021    06  30    2021-06        3.976404\n",
      "18  2021-07-30  39.619263  2021    07  30    2021-07       -0.666188\n",
      "19  2021-08-31  38.635181  2021    08  31    2021-08       -2.483847\n",
      "20  2021-09-30  36.125763  2021    09  30    2021-09       -6.495163\n",
      "21  2021-10-29  40.288445  2021    10  29    2021-10       11.522752\n",
      "22  2021-11-30  38.664707  2021    11  30    2021-11       -4.030282\n",
      "23  2021-12-31  37.248943  2021    12  31    2021-12       -3.661644\n",
      "24  2022-01-31  33.723526  2022    01  31    2022-01       -9.464475\n",
      "25  2022-02-28  35.510921  2022    02  28    2022-02        5.300143\n",
      "26  2022-03-31  37.841446  2022    03  31    2022-03        6.562840\n",
      "27  2022-04-29  36.577435  2022    04  29    2022-04       -3.340282\n",
      "28  2022-05-31  37.110691  2022    05  31    2022-05        1.457882\n",
      "29  2022-06-30  34.069153  2022    06  30    2022-06       -8.195854\n",
      "30  2022-07-29  38.522831  2022    07  29    2022-07       13.072465\n",
      "31  2022-08-31  37.762447  2022    08  31    2022-08       -1.973853\n",
      "32  2022-09-30  36.379932  2022    09  30    2022-09       -3.661084\n",
      "33  2022-10-31  42.453129  2022    10  31    2022-10       16.693811\n",
      "34  2022-11-30  45.376163  2022    11  30    2022-11        6.885321\n",
      "35  2022-12-30  42.509998  2022    12  30    2022-12       -6.316455\n"
     ]
    }
   ],
   "source": [
    "KMKCX_cleaned = pd.merge(KMKCX, a, on='Date', how='right')\n",
    "KMKCX_cleaned=KMKCX_cleaned.drop(['Open', 'High', 'Low','Close','Volume'], axis=1)\n",
    "\n",
    "KMKCX_cleaned[\"Adj Close\"].dtypes\n",
    "KMKCX_cleaned[\"Monthly_return\"]=KMKCX_cleaned[\"Adj Close\"].pct_change()*100\n",
    "KMKCX_cleaned=KMKCX_cleaned.drop(index=0)\n",
    "print(KMKCX_cleaned)\n"
   ]
  },
  {
   "cell_type": "markdown",
   "metadata": {},
   "source": [
    "# Descriptive Statistics"
   ]
  },
  {
   "cell_type": "code",
   "execution_count": 7,
   "metadata": {},
   "outputs": [
    {
     "data": {
      "text/plain": [
       "count    35.000000\n",
       "mean      0.862403\n",
       "std       2.371001\n",
       "min      -3.251421\n",
       "25%      -0.898523\n",
       "50%       0.643402\n",
       "75%       2.389573\n",
       "max       6.221670\n",
       "Name: Monthly_return, dtype: float64"
      ]
     },
     "execution_count": 7,
     "metadata": {},
     "output_type": "execute_result"
    }
   ],
   "source": [
    "details_of_HFSAX=HFSAX_cleaned[\"Monthly_return\"].describe(include='all')\n",
    "details_of_HFSAX"
   ]
  },
  {
   "cell_type": "code",
   "execution_count": 8,
   "metadata": {},
   "outputs": [
    {
     "data": {
      "text/plain": [
       "count    35.000000\n",
       "mean      1.923475\n",
       "std       9.154104\n",
       "min     -19.176952\n",
       "25%      -3.845963\n",
       "50%       0.695952\n",
       "75%       6.724080\n",
       "max      19.701984\n",
       "Name: Monthly_return, dtype: float64"
      ]
     },
     "execution_count": 8,
     "metadata": {},
     "output_type": "execute_result"
    }
   ],
   "source": [
    "details_of_KMKCX=KMKCX_cleaned[\"Monthly_return\"].describe(include='all')\n",
    "details_of_KMKCX"
   ]
  },
  {
   "cell_type": "markdown",
   "metadata": {},
   "source": [
    "# Coefficient Of Variation"
   ]
  },
  {
   "cell_type": "code",
   "execution_count": 9,
   "metadata": {},
   "outputs": [
    {
     "name": "stdout",
     "output_type": "stream",
     "text": [
      "Coefficient Of Variance for Mutuual fund HFSAX is 274.93\n"
     ]
    }
   ],
   "source": [
    "cv_HFSAX=(details_of_HFSAX[\"std\"]/details_of_HFSAX[\"mean\"])*100\n",
    "print(f'Coefficient Of Variance for Mutuual fund HFSAX is {cv_HFSAX:.2f}')"
   ]
  },
  {
   "cell_type": "code",
   "execution_count": 10,
   "metadata": {},
   "outputs": [
    {
     "name": "stdout",
     "output_type": "stream",
     "text": [
      "Coefficient Of Variance for Mutuual fund KMKCX is 475.91\n"
     ]
    }
   ],
   "source": [
    "cv_KMKCX=(details_of_KMKCX[\"std\"]/details_of_KMKCX[\"mean\"])*100\n",
    "print(f'Coefficient Of Variance for Mutuual fund KMKCX is {cv_KMKCX:.2f}')\n"
   ]
  },
  {
   "cell_type": "markdown",
   "metadata": {},
   "source": [
    "# Monthly Return Comparison Graph"
   ]
  },
  {
   "cell_type": "code",
   "execution_count": 11,
   "metadata": {},
   "outputs": [
    {
     "data": {
      "image/png": "[encoded data removed]",
      "text/plain": [
       "<Figure size 432x288 with 1 Axes>"
      ]
     },
     "metadata": {
      "needs_background": "light"
     },
     "output_type": "display_data"
    }
   ],
   "source": [
    "ax = plt.gca()\n",
    "HFSAX_cleaned.plot('Date', 'Monthly_return', ax=ax)\n",
    "KMKCX_cleaned.plot( 'Date' , 'Monthly_return',ax=ax)\n",
    "\n",
    "plt.title('Monthly Return Comparison', fontsize=14)\n",
    "plt.xlabel('year', fontsize=14)\n",
    "plt.ylabel('Monthly Return', fontsize=14)\n",
    "plt.grid(True)\n",
    "plt.show()"
   ]
  },
  {
   "cell_type": "code",
   "execution_count": 12,
   "metadata": {},
   "outputs": [
    {
     "data": {
      "text/plain": [
       "<Figure size 720x504 with 0 Axes>"
      ]
     },
     "metadata": {},
     "output_type": "display_data"
    },
    {
     "data": {
      "image/png": "[encoded data removed]",
      "text/plain": [
       "<Figure size 720x504 with 1 Axes>"
      ]
     },
     "metadata": {
      "needs_background": "light"
     },
     "output_type": "display_data"
    }
   ],
   "source": [
    "data_1 = HFSAX_cleaned['Monthly_return']\n",
    "data_2 = KMKCX_cleaned['Monthly_return']\n",
    "data = [data_1, data_2]\n",
    " \n",
    "fig = plt.figure(figsize =(10, 7))\n",
    " \n",
    "fig = plt.figure(figsize =(10, 7))\n",
    "ax = fig.add_subplot(111)\n",
    " \n",
    "# Creating axes instance\n",
    "bp = ax.boxplot(data, patch_artist = True,\n",
    "                vert = 1)\n",
    " \n",
    "colors = ['#0000FF', '#00FF00']\n",
    " \n",
    "for patch, color in zip(bp['boxes'], colors):\n",
    "    patch.set_facecolor(color)\n",
    " \n",
    "# changing color and linewidth of\n",
    "# whiskers\n",
    "for whisker in bp['whiskers']:\n",
    "    whisker.set(color ='#8B008B',\n",
    "                linewidth = 1.5,\n",
    "                linestyle =\":\")\n",
    " \n",
    "# changing color and linewidth of\n",
    "# caps\n",
    "for cap in bp['caps']:\n",
    "    cap.set(color ='#8B008B',\n",
    "            linewidth = 2)\n",
    " \n",
    "# changing color and linewidth of\n",
    "# medians\n",
    "for median in bp['medians']:\n",
    "    median.set(color ='red',\n",
    "               linewidth = 3)\n",
    " \n",
    "# changing style of fliers\n",
    "for flier in bp['fliers']:\n",
    "    flier.set(marker ='D',\n",
    "              color ='#e7298a',\n",
    "              alpha = 0.5)\n",
    "     \n",
    "# x-axis labels\n",
    "#ax.set_yticklabels(['HFSAX', 'KMKCX'])\n",
    " \n",
    "# Adding title\n",
    "plt.title(\"Customized box plot\")\n",
    " \n",
    "# Removing top axes and right axes\n",
    "# ticks\n",
    "ax.get_xaxis().tick_bottom()\n",
    "ax.get_yaxis().tick_left()\n",
    "     \n",
    "# show plot\n",
    "plt.show()"
   ]
  },
  {
   "cell_type": "markdown",
   "metadata": {},
   "source": [
    "# Hypothesis Testing"
   ]
  },
  {
   "cell_type": "markdown",
   "metadata": {},
   "source": [
    "Null Hypothesis:\n",
    "    H0: Ud=0\n",
    "Alternate Hypothesis:\n",
    "    Ha: udnot equals to 0"
   ]
  },
  {
   "cell_type": "markdown",
   "metadata": {},
   "source": [
    "The Level Of Significance : 0.05"
   ]
  },
  {
   "cell_type": "code",
   "execution_count": 13,
   "metadata": {},
   "outputs": [],
   "source": [
    "from scipy import stats"
   ]
  },
  {
   "cell_type": "code",
   "execution_count": 14,
   "metadata": {},
   "outputs": [
    {
     "data": {
      "text/plain": [
       "ShapiroResult(statistic=0.9594188928604126, pvalue=0.21965213119983673)"
      ]
     },
     "execution_count": 14,
     "metadata": {},
     "output_type": "execute_result"
    }
   ],
   "source": [
    "stats.shapiro(KMKCX_cleaned[\"Monthly_return\"])\n",
    "\n",
    "# stats.ttest_rel(a,b)"
   ]
  },
  {
   "cell_type": "code",
   "execution_count": 15,
   "metadata": {},
   "outputs": [
    {
     "data": {
      "text/plain": [
       "ShapiroResult(statistic=0.9815442562103271, pvalue=0.8082284331321716)"
      ]
     },
     "execution_count": 15,
     "metadata": {},
     "output_type": "execute_result"
    }
   ],
   "source": [
    "stats.shapiro(HFSAX_cleaned[\"Monthly_return\"])"
   ]
  },
  {
   "cell_type": "code",
   "execution_count": 16,
   "metadata": {},
   "outputs": [
    {
     "data": {
      "text/plain": [
       "Ttest_relResult(statistic=-0.7366008316108282, pvalue=0.46641759233011104)"
      ]
     },
     "execution_count": 16,
     "metadata": {},
     "output_type": "execute_result"
    }
   ],
   "source": [
    "stats.ttest_rel(HFSAX_cleaned[\"Monthly_return\"], KMKCX_cleaned[\"Monthly_return\"])"
   ]
  },
  {
   "cell_type": "markdown",
   "metadata": {},
   "source": [
    "Since p value of 0.4664 which is not less than alpha value of 0.05, we do not reject null hypothesis."
   ]
  },
  {
   "cell_type": "markdown",
   "metadata": {},
   "source": [
    "# Are Two Returns Correlated"
   ]
  },
  {
   "cell_type": "code",
   "execution_count": 17,
   "metadata": {},
   "outputs": [
    {
     "data": {
      "text/plain": [
       "0.3868580276215217"
      ]
     },
     "execution_count": 17,
     "metadata": {},
     "output_type": "execute_result"
    }
   ],
   "source": [
    "Correlation_coefficient=HFSAX_cleaned[\"Monthly_return\"].corr(KMKCX_cleaned[\"Monthly_return\"])\n",
    "Correlation_coefficient"
   ]
  },
  {
   "cell_type": "code",
   "execution_count": 19,
   "metadata": {},
   "outputs": [
    {
     "data": {
      "text/plain": [
       "Text(0, 0.5, 'y axis')"
      ]
     },
     "execution_count": 19,
     "metadata": {},
     "output_type": "execute_result"
    },
    {
     "data": {
      "image/png": "[encoded data removed]",
      "text/plain": [
       "<Figure size 432x288 with 1 Axes>"
      ]
     },
     "metadata": {
      "needs_background": "light"
     },
     "output_type": "display_data"
    }
   ],
   "source": [
    "plt.title('Correlation')\n",
    " \n",
    "# plot the data\n",
    "plt.scatter(HFSAX_cleaned[\"Monthly_return\"], KMKCX_cleaned[\"Monthly_return\"])\n",
    " \n",
    "# fits the best fitting line to the data\n",
    "plt.plot(np.unique(HFSAX_cleaned[\"Monthly_return\"]), \n",
    "         np.poly1d(np.polyfit(HFSAX_cleaned[\"Monthly_return\"], KMKCX_cleaned[\"Monthly_return\"], 1))\n",
    "         (np.unique(HFSAX_cleaned[\"Monthly_return\"])), color='red')\n",
    " \n",
    "# Labelling axes\n",
    "plt.xlabel('x axis')\n",
    "plt.ylabel('y axis')"
   ]
  },
  {
   "cell_type": "markdown",
   "metadata": {},
   "source": [
    "# Conclusion: Our two funds are are positively correlated but the correlation is weak due to the correlation coefficient being 0.39."
   ]
  },
  {
   "cell_type": "code",
   "execution_count": null,
   "metadata": {},
   "outputs": [],
   "source": []
  },
  {
   "cell_type": "code",
   "execution_count": null,
   "metadata": {},
   "outputs": [],
   "source": []
  },
  {
   "cell_type": "code",
   "execution_count": null,
   "metadata": {},
   "outputs": [],
   "source": []
  },
  {
   "cell_type": "code",
   "execution_count": null,
   "metadata": {},
   "outputs": [],
   "source": []
  },
  {
   "cell_type": "code",
   "execution_count": null,
   "metadata": {},
   "outputs": [],
   "source": []
  },
  {
   "cell_type": "code",
   "execution_count": null,
   "metadata": {},
   "outputs": [],
   "source": []
  },
  {
   "cell_type": "code",
   "execution_count": null,
   "metadata": {},
   "outputs": [],
   "source": []
  },
  {
   "cell_type": "code",
   "execution_count": null,
   "metadata": {},
   "outputs": [],
   "source": []
  },
  {
   "cell_type": "code",
   "execution_count": null,
   "metadata": {},
   "outputs": [],
   "source": []
  },
  {
   "cell_type": "code",
   "execution_count": null,
   "metadata": {},
   "outputs": [],
   "source": []
  }
 ],
 "metadata": {
  "kernelspec": {
   "display_name": "Python 3",
   "language": "python",
   "name": "python3"
  },
  "language_info": {
   "codemirror_mode": {
    "name": "ipython",
    "version": 3
   },
   "file_extension": ".py",
   "mimetype": "text/x-python",
   "name": "python",
   "nbconvert_exporter": "python",
   "pygments_lexer": "ipython3",
   "version": "3.8.5"
  }
 },
 "nbformat": 4,
 "nbformat_minor": 4
}
